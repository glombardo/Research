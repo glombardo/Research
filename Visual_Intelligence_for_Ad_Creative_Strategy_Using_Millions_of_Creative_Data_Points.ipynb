{
  "nbformat": 4,
  "nbformat_minor": 0,
  "metadata": {
    "colab": {
      "provenance": [],
      "authorship_tag": "ABX9TyMPN3L8XJ9nqXKcKPyPIrkW",
      "include_colab_link": true
    },
    "kernelspec": {
      "name": "python3",
      "display_name": "Python 3"
    },
    "language_info": {
      "name": "python"
    }
  },
  "cells": [
    {
      "cell_type": "markdown",
      "metadata": {
        "id": "view-in-github",
        "colab_type": "text"
      },
      "source": [
        "<a href=\"https://colab.research.google.com/github/glombardo/Research/blob/main/Visual_Intelligence_for_Ad_Creative_Strategy_Using_Millions_of_Creative_Data_Points.ipynb\" target=\"_parent\"><img src=\"https://colab.research.google.com/assets/colab-badge.svg\" alt=\"Open In Colab\"/></a>"
      ]
    },
    {
      "cell_type": "markdown",
      "source": [
        "**Step 1: Upload File (press play button)**"
      ],
      "metadata": {
        "id": "TeppbNmfQWBO"
      }
    },
    {
      "cell_type": "code",
      "source": [
        "# @title\n",
        "from google.colab import files\n",
        "import pandas as pd\n",
        "\n",
        "uploaded = files.upload()\n",
        "\n",
        "for fn in uploaded.keys():\n",
        "  # Assuming only one file is uploaded\n",
        "  df = pd.read_csv(fn)\n",
        "  print(f'User uploaded file \"{fn}\" with length {len(uploaded[fn])} bytes')\n",
        "\n",
        "print(df.head())"
      ],
      "metadata": {
        "cellView": "form",
        "id": "MTPveExuP8iu"
      },
      "execution_count": null,
      "outputs": []
    },
    {
      "cell_type": "markdown",
      "source": [
        "**Step 2: Run this cel (press play button <-)**"
      ],
      "metadata": {
        "id": "l35y9UiDQB9R"
      }
    },
    {
      "cell_type": "code",
      "execution_count": null,
      "metadata": {
        "cellView": "form",
        "id": "mHonG-iKNXc6"
      },
      "outputs": [],
      "source": [
        "# @title\n",
        "# Install required libraries\n",
        "!pip install -q pillow tqdm matplotlib ipywidgets scikit-learn opencv-python\n",
        "\n",
        "# Import packages\n",
        "import pandas as pd\n",
        "import numpy as np\n",
        "import matplotlib.pyplot as plt\n",
        "import cv2\n",
        "import os\n",
        "import requests\n",
        "from tqdm import tqdm\n",
        "from PIL import Image\n",
        "from io import BytesIO\n",
        "from sklearn.decomposition import PCA\n",
        "from sklearn.cluster import KMeans\n",
        "from tensorflow.keras.applications.vgg16 import VGG16, preprocess_input\n",
        "from tensorflow.keras.models import Model\n",
        "import ipywidgets as widgets\n",
        "from IPython.display import display, clear_output\n",
        "\n",
        "# Mount Google Drive if needed\n",
        "# from google.colab import drive\n",
        "# drive.mount('/content/drive')\n",
        "\n",
        "# Load your Pathmatics data\n",
        "# Replace with your actual file path\n",
        "#csv_path = 'vitamins_ads_data.csv'  # <--- change to your filename\n",
        "#df = pd.read_csv(csv_path)\n",
        "\n",
        "# Filter NaNs and malformed links\n",
        "df = df.dropna()\n",
        "df = df[df['Link to Creative'].str.startswith('https')]\n",
        "\n",
        "# Create widgets\n",
        "adv_dropdown = widgets.SelectMultiple(options=df['Advertiser'].dropna().unique(), description='Advertiser', layout=widgets.Layout(width='50%'))\n",
        "brand_dropdown = widgets.SelectMultiple(options=df['Brand Root'].dropna().unique(), description='Brand', layout=widgets.Layout(width='50%'))\n",
        "major_dropdown = widgets.SelectMultiple(options=df['Brand (Major)'].dropna().unique(), description='Sub-Brand', layout=widgets.Layout(width='50%'))\n",
        "pub_dropdown = widgets.SelectMultiple(options=df['Publisher'].dropna().unique(), description='Publisher', layout=widgets.Layout(width='50%'))\n",
        "\n",
        "button = widgets.Button(description=\"Generate Visual Summary\", button_style='success')\n",
        "output = widgets.Output()\n",
        "\n",
        "display(widgets.VBox([adv_dropdown, brand_dropdown, major_dropdown, pub_dropdown, button, output]))\n",
        "\n",
        "# Utility: Download and resize image\n",
        "def download_image(url, size=(224, 224)):\n",
        "    try:\n",
        "        response = requests.get(url, timeout=10)\n",
        "        img = Image.open(BytesIO(response.content)).convert(\"RGB\")\n",
        "        img = img.resize(size)\n",
        "        return np.array(img)\n",
        "    except:\n",
        "        return None\n",
        "\n",
        "# On button click\n",
        "def on_button_click(b):\n",
        "    output.clear_output()\n",
        "    with output:\n",
        "        clear_output(wait=True)\n",
        "        print(\"Processing...\")\n",
        "\n",
        "        # Apply filters\n",
        "        filt_df = df.copy()\n",
        "        if adv_dropdown.value:\n",
        "            filt_df = filt_df[filt_df['Advertiser'].isin(adv_dropdown.value)]\n",
        "        if brand_dropdown.value:\n",
        "            filt_df = filt_df[filt_df['Brand Root'].isin(brand_dropdown.value)]\n",
        "        if major_dropdown.value:\n",
        "            filt_df = filt_df[filt_df['Brand (Major)'].isin(major_dropdown.value)]\n",
        "        if pub_dropdown.value:\n",
        "            filt_df = filt_df[filt_df['Publisher'].isin(pub_dropdown.value)]\n",
        "\n",
        "        # Limit to avoid overload\n",
        "        urls = filt_df['Link to Creative'].drop_duplicates().tolist()#[:100]\n",
        "\n",
        "        if not urls:\n",
        "            print(\"No matching creatives found.\")\n",
        "            return\n",
        "\n",
        "        print(f\"Found {len(urls)} creatives. Downloading...\")\n",
        "\n",
        "        images = []\n",
        "        for url in tqdm(urls):\n",
        "            img = download_image(url)\n",
        "            if img is not None:\n",
        "                images.append(img)\n",
        "\n",
        "        if len(images) < 5:\n",
        "            print(\"Not enough valid images to analyze.\")\n",
        "            return\n",
        "\n",
        "        print(\"Extracting visual features...\")\n",
        "\n",
        "        # Load VGG16 model\n",
        "        base_model = VGG16(weights='imagenet', include_top=False, input_shape=(224, 224, 3))\n",
        "        model = Model(inputs=base_model.input, outputs=base_model.get_layer('block5_pool').output)\n",
        "\n",
        "        img_array = np.array([preprocess_input(img.astype(np.float32)) for img in images])\n",
        "        features = model.predict(img_array, verbose=0)\n",
        "        flat_features = features.reshape(features.shape[0], -1)\n",
        "\n",
        "        print(\"Reducing dimensionality...\")\n",
        "        n_components = min(30, flat_features.shape[0], flat_features.shape[1])\n",
        "        pca = PCA(n_components=n_components)\n",
        "        X_pca = pca.fit_transform(flat_features)\n",
        "\n",
        "        print(\"Clustering...\")\n",
        "        kmeans = KMeans(n_clusters=1, random_state=42)\n",
        "        kmeans.fit(X_pca)\n",
        "        centroid_index = np.argmin(np.linalg.norm(X_pca - kmeans.cluster_centers_[0], axis=1))\n",
        "\n",
        "        representative_img = images[centroid_index]\n",
        "\n",
        "        print(\"Visual Summary Generated:\")\n",
        "        plt.figure(figsize=(6, 6))\n",
        "        plt.imshow(representative_img)\n",
        "        plt.axis('off')\n",
        "        plt.title(\"Most Representative Creative Based on Visual Features\")\n",
        "        plt.show()\n",
        "\n",
        "button.on_click(on_button_click)\n"
      ]
    }
  ]
}