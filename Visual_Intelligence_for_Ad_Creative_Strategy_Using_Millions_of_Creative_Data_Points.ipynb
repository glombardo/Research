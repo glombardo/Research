{
  "nbformat": 4,
  "nbformat_minor": 0,
  "metadata": {
    "colab": {
      "provenance": [],
      "authorship_tag": "ABX9TyMPN3L8XJ9nqXKcKPyPIrkW",
      "include_colab_link": true
    },
    "kernelspec": {
      "name": "python3",
      "display_name": "Python 3"
    },
    "language_info": {
      "name": "python"
    },
    "widgets": {
      "application/vnd.jupyter.widget-state+json": {
        "f4db125fb85f4580a7bdd05737657fa5": {
          "model_module": "@jupyter-widgets/controls",
          "model_name": "VBoxModel",
          "model_module_version": "1.5.0",
          "state": {
            "_dom_classes": [],
            "_model_module": "@jupyter-widgets/controls",
            "_model_module_version": "1.5.0",
            "_model_name": "VBoxModel",
            "_view_count": null,
            "_view_module": "@jupyter-widgets/controls",
            "_view_module_version": "1.5.0",
            "_view_name": "VBoxView",
            "box_style": "",
            "children": [
              "IPY_MODEL_c5299cb4b8354ee791b89972d3518452",
              "IPY_MODEL_26bf46a5425a4b58bb665c07b7e615b8",
              "IPY_MODEL_8dd628c89fd64a08bffaf343ec7920e4",
              "IPY_MODEL_4a54dac203af4b0487420787c7b88f48",
              "IPY_MODEL_19eb8e556e8e42719eb22b2ff708efa0",
              "IPY_MODEL_11512409b7e64371a04bd8f2d9c6b7d9"
            ],
            "layout": "IPY_MODEL_3f73a306642c47e285e86e38cb11effe"
          }
        },
        "c5299cb4b8354ee791b89972d3518452": {
          "model_module": "@jupyter-widgets/controls",
          "model_name": "SelectMultipleModel",
          "model_module_version": "1.5.0",
          "state": {
            "_dom_classes": [],
            "_model_module": "@jupyter-widgets/controls",
            "_model_module_version": "1.5.0",
            "_model_name": "SelectMultipleModel",
            "_options_labels": [
              "Bayer HealthCare LLC.",
              "Pharmavite, LLC.",
              "Church & Dwight Co., Inc."
            ],
            "_view_count": null,
            "_view_module": "@jupyter-widgets/controls",
            "_view_module_version": "1.5.0",
            "_view_name": "SelectMultipleView",
            "description": "Advertiser",
            "description_tooltip": null,
            "disabled": false,
            "index": [],
            "layout": "IPY_MODEL_33ed3bc617c24928b940d27c6192a2d3",
            "rows": 5,
            "style": "IPY_MODEL_5520bc5cd540448da9a5bb39f1744154"
          }
        },
        "26bf46a5425a4b58bb665c07b7e615b8": {
          "model_module": "@jupyter-widgets/controls",
          "model_name": "SelectMultipleModel",
          "model_module_version": "1.5.0",
          "state": {
            "_dom_classes": [],
            "_model_module": "@jupyter-widgets/controls",
            "_model_module_version": "1.5.0",
            "_model_name": "SelectMultipleModel",
            "_options_labels": [
              "One A Day",
              "Nature Made",
              "Vitafusion"
            ],
            "_view_count": null,
            "_view_module": "@jupyter-widgets/controls",
            "_view_module_version": "1.5.0",
            "_view_name": "SelectMultipleView",
            "description": "Brand",
            "description_tooltip": null,
            "disabled": false,
            "index": [
              1
            ],
            "layout": "IPY_MODEL_4d663adc6f1749a483d7980b42c0241d",
            "rows": 5,
            "style": "IPY_MODEL_a3253518b3174374883fec289d04457e"
          }
        },
        "8dd628c89fd64a08bffaf343ec7920e4": {
          "model_module": "@jupyter-widgets/controls",
          "model_name": "SelectMultipleModel",
          "model_module_version": "1.5.0",
          "state": {
            "_dom_classes": [],
            "_model_module": "@jupyter-widgets/controls",
            "_model_module_version": "1.5.0",
            "_model_name": "SelectMultipleModel",
            "_options_labels": [
              "One A Day Multi+",
              "Nature Made",
              "Nature Made Gummies",
              "Nature Made Multi Complete",
              "Vitafusion MultiVites",
              "One A Day Prenatal",
              "Nature Made L - Lysine",
              "Nature Made Wellblends",
              "Nature Made D3",
              "Vitafusion women's supercharged multi",
              "One A Day Postnatal Complete Multivitamin",
              "Nature Made Multi for Him",
              "One A Day Mens",
              "L'il Critters"
            ],
            "_view_count": null,
            "_view_module": "@jupyter-widgets/controls",
            "_view_module_version": "1.5.0",
            "_view_name": "SelectMultipleView",
            "description": "Sub-Brand",
            "description_tooltip": null,
            "disabled": false,
            "index": [
              2,
              3
            ],
            "layout": "IPY_MODEL_357efd0de00448f89137d6b445ac4f92",
            "rows": 5,
            "style": "IPY_MODEL_2f177e92196f4d6fb15b923f08571b5d"
          }
        },
        "4a54dac203af4b0487420787c7b88f48": {
          "model_module": "@jupyter-widgets/controls",
          "model_name": "SelectMultipleModel",
          "model_module_version": "1.5.0",
          "state": {
            "_dom_classes": [],
            "_model_module": "@jupyter-widgets/controls",
            "_model_module_version": "1.5.0",
            "_model_name": "SelectMultipleModel",
            "_options_labels": [
              "Facebook",
              "Instagram",
              "OTT Streaming Services (General)",
              "Pinterest",
              "TikTok",
              "walmart.com",
              "YouTube",
              "foxnews.com (Fox News Digital)",
              "Hulu",
              "ultimateclassicrock.com",
              "amazon.com",
              "Paramount+",
              "target.com",
              "Tubi",
              "Peacock",
              "goodhousekeeping.com (Hearst Digital)",
              "news.yahoo.com",
              "dailymail.co.uk (Daily Mail)",
              "people.com (Meredith)",
              "citationmachine.net",
              "mail.aol.com",
              "wunderground.com (The Weather Company)",
              "msn.com",
              "nbcnews.com (Comcast NBC Universal Digital)",
              "pharmacytimes.com",
              "realtor.com",
              "merriam-webster.com",
              "startribune.com",
              "msnbc.com (Comcast NBC Universal Digital)",
              "Pluto TV",
              "tabs.ultimate-guitar.com",
              "pro-football-reference.com",
              "drugs.com",
              "poki.com",
              "shebudgets.com",
              "boston.com",
              "nba.com (Turner Digital)",
              "yahoo.com",
              "bleacherreport.com (Turner Digital)",
              "football.fantasysports.yahoo.com",
              "nbcsports.com (Comcast NBC Universal Digital)",
              "ebay.com",
              "weather.com (The Weather Company)",
              "foxbusiness.com (Fox News Digital)",
              "calculatorsoup.com",
              "finance.yahoo.com",
              "pagesix.com",
              "petsreporter.com",
              "nypost.com",
              "fandom.com",
              "chess.com",
              "Twitch",
              "rottentomatoes.com",
              "timeanddate.com",
              "realsimple.com (Meredith)",
              "tvtropes.org",
              "buzzfeed.com",
              "myinstants.com",
              "askamanager.org",
              "cbssports.com (CBS Interactive)",
              "whec.com",
              "myhealthgazette.com",
              "tipjunkie.com",
              "thedirect.com",
              "cbr.com",
              "spanishdict.com",
              "wabcradio.com",
              "truepeoplesearch.com",
              "thepioneerwoman.com",
              "babylonbee.com",
              "quizlet.com",
              "goodreads.com",
              "myfitnesspal.com",
              "shadowandact.com",
              "stylecaster.com (SheKnows Media)",
              "timesherald.com",
              "kmbc.com",
              "nitrotype.com",
              "skinnytaste.com",
              "fox61.com",
              "kxan.com",
              "redfin.com",
              "wdsu.com",
              "geoguessr.com",
              "signupgenius.com",
              "socialitelife.com",
              "uploadvr.com",
              "kron4.com",
              "ultrasurfing.com",
              "patch.com",
              "ginx.tv",
              "eonline.com (Comcast NBC Universal Digital)",
              "eater.com (Vox Media)",
              "theverge.com (Vox Media)",
              "marthastewart.com (Meredith)",
              "ew.com (Meredith)",
              "pinchofyum.com",
              "nymag.com",
              "nytimes.com",
              "tumblr.com",
              "slickdeals.net",
              "themediterraneandish.com",
              "anandabazar.com",
              "woodtv.com",
              "feastingathome.com",
              "sallysbakingaddiction.com",
              "eatingwell.com (Meredith)",
              "gimmesomeoven.com",
              "sporcle.com",
              "tablefortwoblog.com",
              "thecozycook.com",
              "bunsinmyoven.com",
              "crazygames.com",
              "omnivorescookbook.com",
              "temeculablogs.com",
              "wellplated.com",
              "accuweather.com",
              "baseball-reference.com",
              "cnn.com (Turner Digital)",
              "legacy.com",
              "southernliving.com (Meredith)",
              "yourtango.com",
              "downshiftology.com",
              "favfamilyrecipes.com",
              "si.com (Sports Illustrated) (Maven)",
              "studyfinds.org",
              "cargurus.com",
              "collegeconfidential.com",
              "space.com (Purch)",
              "247sports.com",
              "coolmathgames.com",
              "outkick.com",
              "sfgate.com",
              "vox.com (Vox Media)",
              "quackit.com",
              "sfchronicle.com",
              "sofifa.com",
              "foodnetwork.com (Scripps Network Digital)",
              "latimes.com (Tribune Media)",
              "lowcarbyum.com",
              "huffpost.com",
              "notalwaysright.com",
              "statology.org",
              "stylebyemilyhenderson.com",
              "famousbirthdays.com",
              "gsmarena.com",
              "nexusmods.com",
              "packhacker.com",
              "deadline.com (Penske)",
              "gamerant.com",
              "omnicalculator.com",
              "wikihow.com",
              "biblegateway.com",
              "borderlands.fandom.com",
              "typing.com",
              "serebii.net",
              "cycletrader.com (Dominion Enterprises)",
              "eatingbirdfood.com",
              "ladbible.com",
              "pajiba.com",
              "salary.com",
              "almanac.com",
              "classiccars.com",
              "finalfantasy.fandom.com",
              "findagrave.com",
              "independent.co.uk",
              "macrumors.com",
              "rollingstone.com",
              "thechive.com (Resignation)",
              "ultimate-guitar.com",
              "vecteezy.com",
              "collinsdictionary.com",
              "cyclingnews.com (Immediate Media)",
              "indianhealthyrecipes.com",
              "slate.com",
              "theringer.com",
              "arstechnica.com (Condé Nast)",
              "finviz.com",
              "howtogeek.com",
              "liquipedia.net",
              "mtbr.com",
              "rotowire.com",
              "tripadvisor.com (TripAdvisor, Inc.)",
              "usatoday.com (Gannett)",
              "digitaltrends.com",
              "forbes.com",
              "kprofiles.com",
              "natashaskitchen.com",
              "walterfootball.com",
              "baeldung.com",
              "food52.com",
              "healthline.com",
              "jpost.com",
              "tastingtable.com",
              "insidethemagic.net",
              "meetup.com",
              "thegamer.com",
              "emojipedia.org",
              "heavy.com",
              "ign.com (Ziff Davis, Inc.)",
              "indystar.com (Gannett)",
              "inspiredtaste.net",
              "maxpreps.com (CBS Interactive)",
              "npr.org",
              "poshmark.com",
              "screenrant.com",
              "sports.yahoo.com",
              "thereviewgeek.com",
              "vulture.com",
              "wordreference.com",
              "allrecipes.com (Meredith)",
              "biblehub.com",
              "britannica.com",
              "bulbapedia.bulbagarden.net",
              "dailyfreeman.com",
              "easybib.com",
              "futbin.com",
              "mgoblog.com",
              "nameberry.com",
              "rockpapershotgun.com",
              "smithsonianmag.com",
              "usnews.com",
              "fantasypros.com",
              "hoopsrumors.com",
              "reuters.com",
              "spotrac.com",
              "syracuse.com",
              "brobible.com (Woven Digital)",
              "cupofjo.com",
              "dictionary.com (IAC)",
              "pitcherlist.com",
              "punchbowl.com",
              "wowhead.com (Zam Networks)",
              "yardbarker.com",
              "cbsnews.com (CBS Interactive)",
              "collider.com",
              "eastbaytimes.com",
              "jsonline.com",
              "searchenginejournal.com",
              "stereogum.com",
              "theatlantic.com",
              "cardgames.io",
              "fragrantica.com",
              "seriouseats.com",
              "hip2save.com",
              "americansongwriter.com",
              "azcentral.com (Gannett)",
              "cincinnati.com (Gannett)",
              "dispatch.com",
              "gizmodo.com",
              "jetpunk.com",
              "cleveland.com",
              "emathhelp.net",
              "medicalnewstoday.com",
              "on3.com",
              "pof.com",
              "robbreport.com",
              "boredpanda.com",
              "lingojam.com",
              "ukutabs.com",
              "westeros.org",
              "chosic.com",
              "inc.com (Mansueto)",
              "jalopnik.com",
              "koreaboo.com",
              "ktla.com (Tribune Media)",
              "u.gg"
            ],
            "_view_count": null,
            "_view_module": "@jupyter-widgets/controls",
            "_view_module_version": "1.5.0",
            "_view_name": "SelectMultipleView",
            "description": "Publisher",
            "description_tooltip": null,
            "disabled": false,
            "index": [],
            "layout": "IPY_MODEL_e594ea3e0f294b219497a81ff5a67e75",
            "rows": 5,
            "style": "IPY_MODEL_68aba18a0fa74d2f81ce96c2bb9e8d4d"
          }
        },
        "19eb8e556e8e42719eb22b2ff708efa0": {
          "model_module": "@jupyter-widgets/controls",
          "model_name": "ButtonModel",
          "model_module_version": "1.5.0",
          "state": {
            "_dom_classes": [],
            "_model_module": "@jupyter-widgets/controls",
            "_model_module_version": "1.5.0",
            "_model_name": "ButtonModel",
            "_view_count": null,
            "_view_module": "@jupyter-widgets/controls",
            "_view_module_version": "1.5.0",
            "_view_name": "ButtonView",
            "button_style": "success",
            "description": "Generate Visual Summary",
            "disabled": false,
            "icon": "",
            "layout": "IPY_MODEL_31f358a5d5544809a9afc5d6b7cadc59",
            "style": "IPY_MODEL_f382c9bcde7c4361a4d8b5ddc1f09ff4",
            "tooltip": ""
          }
        },
        "11512409b7e64371a04bd8f2d9c6b7d9": {
          "model_module": "@jupyter-widgets/output",
          "model_name": "OutputModel",
          "model_module_version": "1.0.0",
          "state": {
            "_dom_classes": [],
            "_model_module": "@jupyter-widgets/output",
            "_model_module_version": "1.0.0",
            "_model_name": "OutputModel",
            "_view_count": null,
            "_view_module": "@jupyter-widgets/output",
            "_view_module_version": "1.0.0",
            "_view_name": "OutputView",
            "layout": "IPY_MODEL_1cbe14f7f78742c187084360a21171b9",
            "msg_id": "",
            "outputs": [
              {
                "output_type": "stream",
                "name": "stdout",
                "text": [
                  "Processing...\n",
                  "Found 130 creatives. Downloading...\n"
                ]
              },
              {
                "output_type": "stream",
                "name": "stderr",
                "text": [
                  "\r  0%|          | 0/130 [00:00<?, ?it/s]"
                ]
              },
              {
                "output_type": "stream",
                "name": "stderr",
                "text": [
                  "\r  1%|          | 1/130 [00:00<00:30,  4.22it/s]"
                ]
              },
              {
                "output_type": "stream",
                "name": "stderr",
                "text": [
                  "\r  2%|▏         | 2/130 [00:00<00:26,  4.92it/s]"
                ]
              },
              {
                "output_type": "stream",
                "name": "stderr",
                "text": [
                  "\r  2%|▏         | 3/130 [00:00<00:25,  4.92it/s]"
                ]
              },
              {
                "output_type": "stream",
                "name": "stderr",
                "text": [
                  "\r  3%|▎         | 4/130 [00:00<00:26,  4.71it/s]"
                ]
              },
              {
                "output_type": "stream",
                "name": "stderr",
                "text": [
                  "\r  4%|▍         | 5/130 [00:01<00:26,  4.73it/s]"
                ]
              },
              {
                "output_type": "stream",
                "name": "stderr",
                "text": [
                  "\r  5%|▍         | 6/130 [00:01<00:26,  4.61it/s]"
                ]
              },
              {
                "output_type": "stream",
                "name": "stderr",
                "text": [
                  "\r  5%|▌         | 7/130 [00:01<00:26,  4.58it/s]"
                ]
              },
              {
                "output_type": "stream",
                "name": "stderr",
                "text": [
                  "\r  6%|▌         | 8/130 [00:01<00:25,  4.75it/s]"
                ]
              },
              {
                "output_type": "stream",
                "name": "stderr",
                "text": [
                  "\r  7%|▋         | 9/130 [00:01<00:24,  4.91it/s]"
                ]
              },
              {
                "output_type": "stream",
                "name": "stderr",
                "text": [
                  "\r  8%|▊         | 10/130 [00:02<00:23,  5.03it/s]"
                ]
              },
              {
                "output_type": "stream",
                "name": "stderr",
                "text": [
                  "\r  8%|▊         | 11/130 [00:02<00:24,  4.93it/s]"
                ]
              },
              {
                "output_type": "stream",
                "name": "stderr",
                "text": [
                  "\r  9%|▉         | 12/130 [00:02<00:24,  4.74it/s]"
                ]
              },
              {
                "output_type": "stream",
                "name": "stderr",
                "text": [
                  "\r 10%|█         | 13/130 [00:02<00:23,  4.88it/s]"
                ]
              },
              {
                "output_type": "stream",
                "name": "stderr",
                "text": [
                  "\r 12%|█▏        | 15/130 [00:02<00:16,  7.05it/s]"
                ]
              },
              {
                "output_type": "stream",
                "name": "stderr",
                "text": [
                  "\r 13%|█▎        | 17/130 [00:02<00:12,  8.69it/s]"
                ]
              },
              {
                "output_type": "stream",
                "name": "stderr",
                "text": [
                  "\r 15%|█▍        | 19/130 [00:03<00:10, 10.16it/s]"
                ]
              },
              {
                "output_type": "stream",
                "name": "stderr",
                "text": [
                  "\r 16%|█▌        | 21/130 [00:03<00:09, 11.47it/s]"
                ]
              },
              {
                "output_type": "stream",
                "name": "stderr",
                "text": [
                  "\r 18%|█▊        | 23/130 [00:03<00:15,  6.94it/s]"
                ]
              },
              {
                "output_type": "stream",
                "name": "stderr",
                "text": [
                  "\r 18%|█▊        | 24/130 [00:03<00:15,  6.68it/s]"
                ]
              },
              {
                "output_type": "stream",
                "name": "stderr",
                "text": [
                  "\r 19%|█▉        | 25/130 [00:04<00:18,  5.56it/s]"
                ]
              },
              {
                "output_type": "stream",
                "name": "stderr",
                "text": [
                  "\r 20%|██        | 26/130 [00:04<00:19,  5.44it/s]"
                ]
              },
              {
                "output_type": "stream",
                "name": "stderr",
                "text": [
                  "\r 21%|██        | 27/130 [00:04<00:21,  4.88it/s]"
                ]
              },
              {
                "output_type": "stream",
                "name": "stderr",
                "text": [
                  "\r 22%|██▏       | 28/130 [00:04<00:22,  4.60it/s]"
                ]
              },
              {
                "output_type": "stream",
                "name": "stderr",
                "text": [
                  "\r 22%|██▏       | 29/130 [00:05<00:22,  4.47it/s]"
                ]
              },
              {
                "output_type": "stream",
                "name": "stderr",
                "text": [
                  "\r 23%|██▎       | 30/130 [00:05<00:21,  4.69it/s]"
                ]
              },
              {
                "output_type": "stream",
                "name": "stderr",
                "text": [
                  "\r 24%|██▍       | 31/130 [00:05<00:21,  4.62it/s]"
                ]
              },
              {
                "output_type": "stream",
                "name": "stderr",
                "text": [
                  "\r 25%|██▍       | 32/130 [00:05<00:19,  4.91it/s]"
                ]
              },
              {
                "output_type": "stream",
                "name": "stderr",
                "text": [
                  "\r 26%|██▌       | 34/130 [00:06<00:18,  5.32it/s]"
                ]
              },
              {
                "output_type": "stream",
                "name": "stderr",
                "text": [
                  "\r 27%|██▋       | 35/130 [00:06<00:17,  5.39it/s]"
                ]
              },
              {
                "output_type": "stream",
                "name": "stderr",
                "text": [
                  "\r 28%|██▊       | 36/130 [00:06<00:18,  5.21it/s]"
                ]
              },
              {
                "output_type": "stream",
                "name": "stderr",
                "text": [
                  "\r 28%|██▊       | 37/130 [00:06<00:19,  4.74it/s]"
                ]
              },
              {
                "output_type": "stream",
                "name": "stderr",
                "text": [
                  "\r 29%|██▉       | 38/130 [00:07<00:21,  4.34it/s]"
                ]
              },
              {
                "output_type": "stream",
                "name": "stderr",
                "text": [
                  "\r 30%|███       | 39/130 [00:07<00:21,  4.27it/s]"
                ]
              },
              {
                "output_type": "stream",
                "name": "stderr",
                "text": [
                  "\r 31%|███       | 40/130 [00:07<00:21,  4.27it/s]"
                ]
              },
              {
                "output_type": "stream",
                "name": "stderr",
                "text": [
                  "\r 32%|███▏      | 41/130 [00:07<00:19,  4.53it/s]"
                ]
              },
              {
                "output_type": "stream",
                "name": "stderr",
                "text": [
                  "\r 32%|███▏      | 42/130 [00:07<00:18,  4.87it/s]"
                ]
              },
              {
                "output_type": "stream",
                "name": "stderr",
                "text": [
                  "\r 33%|███▎      | 43/130 [00:08<00:17,  5.02it/s]"
                ]
              },
              {
                "output_type": "stream",
                "name": "stderr",
                "text": [
                  "\r 34%|███▍      | 44/130 [00:08<00:16,  5.13it/s]"
                ]
              },
              {
                "output_type": "stream",
                "name": "stderr",
                "text": [
                  "\r 35%|███▍      | 45/130 [00:08<00:18,  4.57it/s]"
                ]
              },
              {
                "output_type": "stream",
                "name": "stderr",
                "text": [
                  "\r 36%|███▌      | 47/130 [00:08<00:16,  5.16it/s]"
                ]
              },
              {
                "output_type": "stream",
                "name": "stderr",
                "text": [
                  "\r 37%|███▋      | 48/130 [00:09<00:15,  5.19it/s]"
                ]
              },
              {
                "output_type": "stream",
                "name": "stderr",
                "text": [
                  "\r 38%|███▊      | 49/130 [00:09<00:16,  5.00it/s]"
                ]
              },
              {
                "output_type": "stream",
                "name": "stderr",
                "text": [
                  "\r 38%|███▊      | 50/130 [00:09<00:15,  5.07it/s]"
                ]
              },
              {
                "output_type": "stream",
                "name": "stderr",
                "text": [
                  "\r 39%|███▉      | 51/130 [00:09<00:16,  4.92it/s]"
                ]
              },
              {
                "output_type": "stream",
                "name": "stderr",
                "text": [
                  "\r 40%|████      | 52/130 [00:09<00:15,  4.93it/s]"
                ]
              },
              {
                "output_type": "stream",
                "name": "stderr",
                "text": [
                  "\r 41%|████      | 53/130 [00:10<00:16,  4.69it/s]"
                ]
              },
              {
                "output_type": "stream",
                "name": "stderr",
                "text": [
                  "\r 42%|████▏     | 54/130 [00:10<00:17,  4.36it/s]"
                ]
              },
              {
                "output_type": "stream",
                "name": "stderr",
                "text": [
                  "\r 42%|████▏     | 55/130 [00:10<00:17,  4.23it/s]"
                ]
              },
              {
                "output_type": "stream",
                "name": "stderr",
                "text": [
                  "\r 43%|████▎     | 56/130 [00:10<00:17,  4.12it/s]"
                ]
              },
              {
                "output_type": "stream",
                "name": "stderr",
                "text": [
                  "\r 44%|████▍     | 57/130 [00:11<00:17,  4.09it/s]"
                ]
              },
              {
                "output_type": "stream",
                "name": "stderr",
                "text": [
                  "\r 45%|████▍     | 58/130 [00:11<00:16,  4.49it/s]"
                ]
              },
              {
                "output_type": "stream",
                "name": "stderr",
                "text": [
                  "\r 45%|████▌     | 59/130 [00:11<00:14,  4.79it/s]"
                ]
              },
              {
                "output_type": "stream",
                "name": "stderr",
                "text": [
                  "\r 46%|████▌     | 60/130 [00:11<00:15,  4.62it/s]"
                ]
              },
              {
                "output_type": "stream",
                "name": "stderr",
                "text": [
                  "\r 47%|████▋     | 61/130 [00:11<00:13,  5.16it/s]"
                ]
              },
              {
                "output_type": "stream",
                "name": "stderr",
                "text": [
                  "\r 48%|████▊     | 63/130 [00:12<00:10,  6.16it/s]"
                ]
              },
              {
                "output_type": "stream",
                "name": "stderr",
                "text": [
                  "\r 49%|████▉     | 64/130 [00:12<00:10,  6.41it/s]"
                ]
              },
              {
                "output_type": "stream",
                "name": "stderr",
                "text": [
                  "\r 50%|█████     | 65/130 [00:12<00:10,  6.47it/s]"
                ]
              },
              {
                "output_type": "stream",
                "name": "stderr",
                "text": [
                  "\r 51%|█████     | 66/130 [00:12<00:09,  6.88it/s]"
                ]
              },
              {
                "output_type": "stream",
                "name": "stderr",
                "text": [
                  "\r 52%|█████▏    | 67/130 [00:12<00:09,  6.82it/s]"
                ]
              },
              {
                "output_type": "stream",
                "name": "stderr",
                "text": [
                  "\r 52%|█████▏    | 68/130 [00:12<00:10,  5.74it/s]"
                ]
              },
              {
                "output_type": "stream",
                "name": "stderr",
                "text": [
                  "\r 53%|█████▎    | 69/130 [00:13<00:11,  5.21it/s]"
                ]
              },
              {
                "output_type": "stream",
                "name": "stderr",
                "text": [
                  "\r 54%|█████▍    | 70/130 [00:13<00:11,  5.23it/s]"
                ]
              },
              {
                "output_type": "stream",
                "name": "stderr",
                "text": [
                  "\r 55%|█████▍    | 71/130 [00:13<00:10,  5.43it/s]"
                ]
              },
              {
                "output_type": "stream",
                "name": "stderr",
                "text": [
                  "\r 55%|█████▌    | 72/130 [00:13<00:10,  5.74it/s]"
                ]
              },
              {
                "output_type": "stream",
                "name": "stderr",
                "text": [
                  "\r 56%|█████▌    | 73/130 [00:13<00:11,  4.82it/s]"
                ]
              },
              {
                "output_type": "stream",
                "name": "stderr",
                "text": [
                  "\r 57%|█████▋    | 74/130 [00:14<00:12,  4.48it/s]"
                ]
              },
              {
                "output_type": "stream",
                "name": "stderr",
                "text": [
                  "\r 58%|█████▊    | 75/130 [00:14<00:12,  4.43it/s]"
                ]
              },
              {
                "output_type": "stream",
                "name": "stderr",
                "text": [
                  "\r 58%|█████▊    | 76/130 [00:14<00:12,  4.49it/s]"
                ]
              },
              {
                "output_type": "stream",
                "name": "stderr",
                "text": [
                  "\r 59%|█████▉    | 77/130 [00:14<00:12,  4.25it/s]"
                ]
              },
              {
                "output_type": "stream",
                "name": "stderr",
                "text": [
                  "\r 60%|██████    | 78/130 [00:15<00:12,  4.28it/s]"
                ]
              },
              {
                "output_type": "stream",
                "name": "stderr",
                "text": [
                  "\r 61%|██████    | 79/130 [00:15<00:11,  4.41it/s]"
                ]
              },
              {
                "output_type": "stream",
                "name": "stderr",
                "text": [
                  "\r 62%|██████▏   | 80/130 [00:15<00:11,  4.44it/s]"
                ]
              },
              {
                "output_type": "stream",
                "name": "stderr",
                "text": [
                  "\r 63%|██████▎   | 82/130 [00:15<00:09,  5.22it/s]"
                ]
              },
              {
                "output_type": "stream",
                "name": "stderr",
                "text": [
                  "\r 64%|██████▍   | 83/130 [00:16<00:08,  5.33it/s]"
                ]
              },
              {
                "output_type": "stream",
                "name": "stderr",
                "text": [
                  "\r 65%|██████▍   | 84/130 [00:16<00:08,  5.16it/s]"
                ]
              },
              {
                "output_type": "stream",
                "name": "stderr",
                "text": [
                  "\r 65%|██████▌   | 85/130 [00:16<00:08,  5.02it/s]"
                ]
              },
              {
                "output_type": "stream",
                "name": "stderr",
                "text": [
                  "\r 66%|██████▌   | 86/130 [00:16<00:09,  4.71it/s]"
                ]
              },
              {
                "output_type": "stream",
                "name": "stderr",
                "text": [
                  "\r 67%|██████▋   | 87/130 [00:17<00:09,  4.44it/s]"
                ]
              },
              {
                "output_type": "stream",
                "name": "stderr",
                "text": [
                  "\r 68%|██████▊   | 88/130 [00:17<00:08,  4.72it/s]"
                ]
              },
              {
                "output_type": "stream",
                "name": "stderr",
                "text": [
                  "\r 68%|██████▊   | 89/130 [00:17<00:08,  4.98it/s]"
                ]
              },
              {
                "output_type": "stream",
                "name": "stderr",
                "text": [
                  "\r 69%|██████▉   | 90/130 [00:17<00:08,  4.84it/s]"
                ]
              },
              {
                "output_type": "stream",
                "name": "stderr",
                "text": [
                  "\r 70%|███████   | 91/130 [00:17<00:07,  5.04it/s]"
                ]
              },
              {
                "output_type": "stream",
                "name": "stderr",
                "text": [
                  "\r 71%|███████   | 92/130 [00:17<00:07,  4.99it/s]"
                ]
              },
              {
                "output_type": "stream",
                "name": "stderr",
                "text": [
                  "\r 72%|███████▏  | 93/130 [00:18<00:07,  5.02it/s]"
                ]
              },
              {
                "output_type": "stream",
                "name": "stderr",
                "text": [
                  "\r 72%|███████▏  | 94/130 [00:18<00:07,  5.08it/s]"
                ]
              },
              {
                "output_type": "stream",
                "name": "stderr",
                "text": [
                  "\r 73%|███████▎  | 95/130 [00:18<00:07,  4.99it/s]"
                ]
              },
              {
                "output_type": "stream",
                "name": "stderr",
                "text": [
                  "\r 74%|███████▍  | 96/130 [00:18<00:07,  4.79it/s]"
                ]
              },
              {
                "output_type": "stream",
                "name": "stderr",
                "text": [
                  "\r 75%|███████▍  | 97/130 [00:18<00:06,  4.89it/s]"
                ]
              },
              {
                "output_type": "stream",
                "name": "stderr",
                "text": [
                  "\r 75%|███████▌  | 98/130 [00:19<00:05,  5.62it/s]"
                ]
              },
              {
                "output_type": "stream",
                "name": "stderr",
                "text": [
                  "\r 76%|███████▌  | 99/130 [00:19<00:05,  5.68it/s]"
                ]
              },
              {
                "output_type": "stream",
                "name": "stderr",
                "text": [
                  "\r 77%|███████▋  | 100/130 [00:19<00:05,  5.60it/s]"
                ]
              },
              {
                "output_type": "stream",
                "name": "stderr",
                "text": [
                  "\r 78%|███████▊  | 101/130 [00:19<00:05,  5.52it/s]"
                ]
              },
              {
                "output_type": "stream",
                "name": "stderr",
                "text": [
                  "\r 78%|███████▊  | 102/130 [00:19<00:05,  5.19it/s]"
                ]
              },
              {
                "output_type": "stream",
                "name": "stderr",
                "text": [
                  "\r 79%|███████▉  | 103/130 [00:20<00:05,  5.21it/s]"
                ]
              },
              {
                "output_type": "stream",
                "name": "stderr",
                "text": [
                  "\r 80%|████████  | 104/130 [00:20<00:04,  5.73it/s]"
                ]
              },
              {
                "output_type": "stream",
                "name": "stderr",
                "text": [
                  "\r 81%|████████  | 105/130 [00:20<00:04,  5.42it/s]"
                ]
              },
              {
                "output_type": "stream",
                "name": "stderr",
                "text": [
                  "\r 82%|████████▏ | 106/130 [00:20<00:04,  5.13it/s]"
                ]
              },
              {
                "output_type": "stream",
                "name": "stderr",
                "text": [
                  "\r 82%|████████▏ | 107/130 [00:20<00:05,  4.48it/s]"
                ]
              },
              {
                "output_type": "stream",
                "name": "stderr",
                "text": [
                  "\r 83%|████████▎ | 108/130 [00:21<00:04,  4.53it/s]"
                ]
              },
              {
                "output_type": "stream",
                "name": "stderr",
                "text": [
                  "\r 84%|████████▍ | 109/130 [00:21<00:04,  4.63it/s]"
                ]
              },
              {
                "output_type": "stream",
                "name": "stderr",
                "text": [
                  "\r 85%|████████▍ | 110/130 [00:21<00:04,  4.76it/s]"
                ]
              },
              {
                "output_type": "stream",
                "name": "stderr",
                "text": [
                  "\r 85%|████████▌ | 111/130 [00:21<00:04,  4.55it/s]"
                ]
              },
              {
                "output_type": "stream",
                "name": "stderr",
                "text": [
                  "\r 86%|████████▌ | 112/130 [00:21<00:03,  4.65it/s]"
                ]
              },
              {
                "output_type": "stream",
                "name": "stderr",
                "text": [
                  "\r 87%|████████▋ | 113/130 [00:22<00:03,  4.48it/s]"
                ]
              },
              {
                "output_type": "stream",
                "name": "stderr",
                "text": [
                  "\r 88%|████████▊ | 114/130 [00:22<00:03,  4.76it/s]"
                ]
              },
              {
                "output_type": "stream",
                "name": "stderr",
                "text": [
                  "\r 88%|████████▊ | 115/130 [00:22<00:03,  5.00it/s]"
                ]
              },
              {
                "output_type": "stream",
                "name": "stderr",
                "text": [
                  "\r 89%|████████▉ | 116/130 [00:22<00:02,  5.08it/s]"
                ]
              },
              {
                "output_type": "stream",
                "name": "stderr",
                "text": [
                  "\r 90%|█████████ | 117/130 [00:22<00:02,  4.95it/s]"
                ]
              },
              {
                "output_type": "stream",
                "name": "stderr",
                "text": [
                  "\r 91%|█████████ | 118/130 [00:23<00:02,  4.67it/s]"
                ]
              },
              {
                "output_type": "stream",
                "name": "stderr",
                "text": [
                  "\r 92%|█████████▏| 119/130 [00:23<00:02,  4.56it/s]"
                ]
              },
              {
                "output_type": "stream",
                "name": "stderr",
                "text": [
                  "\r 92%|█████████▏| 120/130 [00:23<00:02,  4.08it/s]"
                ]
              },
              {
                "output_type": "stream",
                "name": "stderr",
                "text": [
                  "\r 93%|█████████▎| 121/130 [00:23<00:01,  4.67it/s]"
                ]
              },
              {
                "output_type": "stream",
                "name": "stderr",
                "text": [
                  "\r 94%|█████████▍| 122/130 [00:24<00:01,  4.01it/s]"
                ]
              },
              {
                "output_type": "stream",
                "name": "stderr",
                "text": [
                  "\r 95%|█████████▍| 123/130 [00:24<00:01,  4.07it/s]"
                ]
              },
              {
                "output_type": "stream",
                "name": "stderr",
                "text": [
                  "\r 95%|█████████▌| 124/130 [00:24<00:01,  3.44it/s]"
                ]
              },
              {
                "output_type": "stream",
                "name": "stderr",
                "text": [
                  "\r 96%|█████████▌| 125/130 [00:25<00:01,  3.75it/s]"
                ]
              },
              {
                "output_type": "stream",
                "name": "stderr",
                "text": [
                  "\r 97%|█████████▋| 126/130 [00:25<00:00,  4.01it/s]"
                ]
              },
              {
                "output_type": "stream",
                "name": "stderr",
                "text": [
                  "\r 98%|█████████▊| 127/130 [00:25<00:00,  4.20it/s]"
                ]
              },
              {
                "output_type": "stream",
                "name": "stderr",
                "text": [
                  "\r 98%|█████████▊| 128/130 [00:25<00:00,  4.23it/s]"
                ]
              },
              {
                "output_type": "stream",
                "name": "stderr",
                "text": [
                  "\r 99%|█████████▉| 129/130 [00:25<00:00,  4.10it/s]"
                ]
              },
              {
                "output_type": "stream",
                "name": "stderr",
                "text": [
                  "\r100%|██████████| 130/130 [00:26<00:00,  4.36it/s]"
                ]
              },
              {
                "output_type": "stream",
                "name": "stderr",
                "text": [
                  "\r100%|██████████| 130/130 [00:26<00:00,  4.97it/s]"
                ]
              },
              {
                "output_type": "stream",
                "name": "stderr",
                "text": [
                  "\n"
                ]
              },
              {
                "output_type": "stream",
                "name": "stdout",
                "text": [
                  "Extracting visual features...\n"
                ]
              },
              {
                "output_type": "stream",
                "name": "stdout",
                "text": [
                  "Reducing dimensionality...\n"
                ]
              },
              {
                "output_type": "stream",
                "name": "stdout",
                "text": [
                  "Clustering...\n",
                  "Visual Summary Generated:\n"
                ]
              },
              {
                "output_type": "display_data",
                "data": {
                  "text/plain": "<Figure size 600x600 with 1 Axes>",
                  "image/png": "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\n"
                },
                "metadata": {}
              }
            ]
          }
        },
        "3f73a306642c47e285e86e38cb11effe": {
          "model_module": "@jupyter-widgets/base",
          "model_name": "LayoutModel",
          "model_module_version": "1.2.0",
          "state": {
            "_model_module": "@jupyter-widgets/base",
            "_model_module_version": "1.2.0",
            "_model_name": "LayoutModel",
            "_view_count": null,
            "_view_module": "@jupyter-widgets/base",
            "_view_module_version": "1.2.0",
            "_view_name": "LayoutView",
            "align_content": null,
            "align_items": null,
            "align_self": null,
            "border": null,
            "bottom": null,
            "display": null,
            "flex": null,
            "flex_flow": null,
            "grid_area": null,
            "grid_auto_columns": null,
            "grid_auto_flow": null,
            "grid_auto_rows": null,
            "grid_column": null,
            "grid_gap": null,
            "grid_row": null,
            "grid_template_areas": null,
            "grid_template_columns": null,
            "grid_template_rows": null,
            "height": null,
            "justify_content": null,
            "justify_items": null,
            "left": null,
            "margin": null,
            "max_height": null,
            "max_width": null,
            "min_height": null,
            "min_width": null,
            "object_fit": null,
            "object_position": null,
            "order": null,
            "overflow": null,
            "overflow_x": null,
            "overflow_y": null,
            "padding": null,
            "right": null,
            "top": null,
            "visibility": null,
            "width": null
          }
        },
        "33ed3bc617c24928b940d27c6192a2d3": {
          "model_module": "@jupyter-widgets/base",
          "model_name": "LayoutModel",
          "model_module_version": "1.2.0",
          "state": {
            "_model_module": "@jupyter-widgets/base",
            "_model_module_version": "1.2.0",
            "_model_name": "LayoutModel",
            "_view_count": null,
            "_view_module": "@jupyter-widgets/base",
            "_view_module_version": "1.2.0",
            "_view_name": "LayoutView",
            "align_content": null,
            "align_items": null,
            "align_self": null,
            "border": null,
            "bottom": null,
            "display": null,
            "flex": null,
            "flex_flow": null,
            "grid_area": null,
            "grid_auto_columns": null,
            "grid_auto_flow": null,
            "grid_auto_rows": null,
            "grid_column": null,
            "grid_gap": null,
            "grid_row": null,
            "grid_template_areas": null,
            "grid_template_columns": null,
            "grid_template_rows": null,
            "height": null,
            "justify_content": null,
            "justify_items": null,
            "left": null,
            "margin": null,
            "max_height": null,
            "max_width": null,
            "min_height": null,
            "min_width": null,
            "object_fit": null,
            "object_position": null,
            "order": null,
            "overflow": null,
            "overflow_x": null,
            "overflow_y": null,
            "padding": null,
            "right": null,
            "top": null,
            "visibility": null,
            "width": "50%"
          }
        },
        "5520bc5cd540448da9a5bb39f1744154": {
          "model_module": "@jupyter-widgets/controls",
          "model_name": "DescriptionStyleModel",
          "model_module_version": "1.5.0",
          "state": {
            "_model_module": "@jupyter-widgets/controls",
            "_model_module_version": "1.5.0",
            "_model_name": "DescriptionStyleModel",
            "_view_count": null,
            "_view_module": "@jupyter-widgets/base",
            "_view_module_version": "1.2.0",
            "_view_name": "StyleView",
            "description_width": ""
          }
        },
        "4d663adc6f1749a483d7980b42c0241d": {
          "model_module": "@jupyter-widgets/base",
          "model_name": "LayoutModel",
          "model_module_version": "1.2.0",
          "state": {
            "_model_module": "@jupyter-widgets/base",
            "_model_module_version": "1.2.0",
            "_model_name": "LayoutModel",
            "_view_count": null,
            "_view_module": "@jupyter-widgets/base",
            "_view_module_version": "1.2.0",
            "_view_name": "LayoutView",
            "align_content": null,
            "align_items": null,
            "align_self": null,
            "border": null,
            "bottom": null,
            "display": null,
            "flex": null,
            "flex_flow": null,
            "grid_area": null,
            "grid_auto_columns": null,
            "grid_auto_flow": null,
            "grid_auto_rows": null,
            "grid_column": null,
            "grid_gap": null,
            "grid_row": null,
            "grid_template_areas": null,
            "grid_template_columns": null,
            "grid_template_rows": null,
            "height": null,
            "justify_content": null,
            "justify_items": null,
            "left": null,
            "margin": null,
            "max_height": null,
            "max_width": null,
            "min_height": null,
            "min_width": null,
            "object_fit": null,
            "object_position": null,
            "order": null,
            "overflow": null,
            "overflow_x": null,
            "overflow_y": null,
            "padding": null,
            "right": null,
            "top": null,
            "visibility": null,
            "width": "50%"
          }
        },
        "a3253518b3174374883fec289d04457e": {
          "model_module": "@jupyter-widgets/controls",
          "model_name": "DescriptionStyleModel",
          "model_module_version": "1.5.0",
          "state": {
            "_model_module": "@jupyter-widgets/controls",
            "_model_module_version": "1.5.0",
            "_model_name": "DescriptionStyleModel",
            "_view_count": null,
            "_view_module": "@jupyter-widgets/base",
            "_view_module_version": "1.2.0",
            "_view_name": "StyleView",
            "description_width": ""
          }
        },
        "357efd0de00448f89137d6b445ac4f92": {
          "model_module": "@jupyter-widgets/base",
          "model_name": "LayoutModel",
          "model_module_version": "1.2.0",
          "state": {
            "_model_module": "@jupyter-widgets/base",
            "_model_module_version": "1.2.0",
            "_model_name": "LayoutModel",
            "_view_count": null,
            "_view_module": "@jupyter-widgets/base",
            "_view_module_version": "1.2.0",
            "_view_name": "LayoutView",
            "align_content": null,
            "align_items": null,
            "align_self": null,
            "border": null,
            "bottom": null,
            "display": null,
            "flex": null,
            "flex_flow": null,
            "grid_area": null,
            "grid_auto_columns": null,
            "grid_auto_flow": null,
            "grid_auto_rows": null,
            "grid_column": null,
            "grid_gap": null,
            "grid_row": null,
            "grid_template_areas": null,
            "grid_template_columns": null,
            "grid_template_rows": null,
            "height": null,
            "justify_content": null,
            "justify_items": null,
            "left": null,
            "margin": null,
            "max_height": null,
            "max_width": null,
            "min_height": null,
            "min_width": null,
            "object_fit": null,
            "object_position": null,
            "order": null,
            "overflow": null,
            "overflow_x": null,
            "overflow_y": null,
            "padding": null,
            "right": null,
            "top": null,
            "visibility": null,
            "width": "50%"
          }
        },
        "2f177e92196f4d6fb15b923f08571b5d": {
          "model_module": "@jupyter-widgets/controls",
          "model_name": "DescriptionStyleModel",
          "model_module_version": "1.5.0",
          "state": {
            "_model_module": "@jupyter-widgets/controls",
            "_model_module_version": "1.5.0",
            "_model_name": "DescriptionStyleModel",
            "_view_count": null,
            "_view_module": "@jupyter-widgets/base",
            "_view_module_version": "1.2.0",
            "_view_name": "StyleView",
            "description_width": ""
          }
        },
        "e594ea3e0f294b219497a81ff5a67e75": {
          "model_module": "@jupyter-widgets/base",
          "model_name": "LayoutModel",
          "model_module_version": "1.2.0",
          "state": {
            "_model_module": "@jupyter-widgets/base",
            "_model_module_version": "1.2.0",
            "_model_name": "LayoutModel",
            "_view_count": null,
            "_view_module": "@jupyter-widgets/base",
            "_view_module_version": "1.2.0",
            "_view_name": "LayoutView",
            "align_content": null,
            "align_items": null,
            "align_self": null,
            "border": null,
            "bottom": null,
            "display": null,
            "flex": null,
            "flex_flow": null,
            "grid_area": null,
            "grid_auto_columns": null,
            "grid_auto_flow": null,
            "grid_auto_rows": null,
            "grid_column": null,
            "grid_gap": null,
            "grid_row": null,
            "grid_template_areas": null,
            "grid_template_columns": null,
            "grid_template_rows": null,
            "height": null,
            "justify_content": null,
            "justify_items": null,
            "left": null,
            "margin": null,
            "max_height": null,
            "max_width": null,
            "min_height": null,
            "min_width": null,
            "object_fit": null,
            "object_position": null,
            "order": null,
            "overflow": null,
            "overflow_x": null,
            "overflow_y": null,
            "padding": null,
            "right": null,
            "top": null,
            "visibility": null,
            "width": "50%"
          }
        },
        "68aba18a0fa74d2f81ce96c2bb9e8d4d": {
          "model_module": "@jupyter-widgets/controls",
          "model_name": "DescriptionStyleModel",
          "model_module_version": "1.5.0",
          "state": {
            "_model_module": "@jupyter-widgets/controls",
            "_model_module_version": "1.5.0",
            "_model_name": "DescriptionStyleModel",
            "_view_count": null,
            "_view_module": "@jupyter-widgets/base",
            "_view_module_version": "1.2.0",
            "_view_name": "StyleView",
            "description_width": ""
          }
        },
        "31f358a5d5544809a9afc5d6b7cadc59": {
          "model_module": "@jupyter-widgets/base",
          "model_name": "LayoutModel",
          "model_module_version": "1.2.0",
          "state": {
            "_model_module": "@jupyter-widgets/base",
            "_model_module_version": "1.2.0",
            "_model_name": "LayoutModel",
            "_view_count": null,
            "_view_module": "@jupyter-widgets/base",
            "_view_module_version": "1.2.0",
            "_view_name": "LayoutView",
            "align_content": null,
            "align_items": null,
            "align_self": null,
            "border": null,
            "bottom": null,
            "display": null,
            "flex": null,
            "flex_flow": null,
            "grid_area": null,
            "grid_auto_columns": null,
            "grid_auto_flow": null,
            "grid_auto_rows": null,
            "grid_column": null,
            "grid_gap": null,
            "grid_row": null,
            "grid_template_areas": null,
            "grid_template_columns": null,
            "grid_template_rows": null,
            "height": null,
            "justify_content": null,
            "justify_items": null,
            "left": null,
            "margin": null,
            "max_height": null,
            "max_width": null,
            "min_height": null,
            "min_width": null,
            "object_fit": null,
            "object_position": null,
            "order": null,
            "overflow": null,
            "overflow_x": null,
            "overflow_y": null,
            "padding": null,
            "right": null,
            "top": null,
            "visibility": null,
            "width": null
          }
        },
        "f382c9bcde7c4361a4d8b5ddc1f09ff4": {
          "model_module": "@jupyter-widgets/controls",
          "model_name": "ButtonStyleModel",
          "model_module_version": "1.5.0",
          "state": {
            "_model_module": "@jupyter-widgets/controls",
            "_model_module_version": "1.5.0",
            "_model_name": "ButtonStyleModel",
            "_view_count": null,
            "_view_module": "@jupyter-widgets/base",
            "_view_module_version": "1.2.0",
            "_view_name": "StyleView",
            "button_color": null,
            "font_weight": ""
          }
        },
        "1cbe14f7f78742c187084360a21171b9": {
          "model_module": "@jupyter-widgets/base",
          "model_name": "LayoutModel",
          "model_module_version": "1.2.0",
          "state": {
            "_model_module": "@jupyter-widgets/base",
            "_model_module_version": "1.2.0",
            "_model_name": "LayoutModel",
            "_view_count": null,
            "_view_module": "@jupyter-widgets/base",
            "_view_module_version": "1.2.0",
            "_view_name": "LayoutView",
            "align_content": null,
            "align_items": null,
            "align_self": null,
            "border": null,
            "bottom": null,
            "display": null,
            "flex": null,
            "flex_flow": null,
            "grid_area": null,
            "grid_auto_columns": null,
            "grid_auto_flow": null,
            "grid_auto_rows": null,
            "grid_column": null,
            "grid_gap": null,
            "grid_row": null,
            "grid_template_areas": null,
            "grid_template_columns": null,
            "grid_template_rows": null,
            "height": null,
            "justify_content": null,
            "justify_items": null,
            "left": null,
            "margin": null,
            "max_height": null,
            "max_width": null,
            "min_height": null,
            "min_width": null,
            "object_fit": null,
            "object_position": null,
            "order": null,
            "overflow": null,
            "overflow_x": null,
            "overflow_y": null,
            "padding": null,
            "right": null,
            "top": null,
            "visibility": null,
            "width": null
          }
        }
      }
    }
  },
  "cells": [
    {
      "cell_type": "markdown",
      "metadata": {
        "id": "view-in-github",
        "colab_type": "text"
      },
      "source": [
        "<a href=\"https://colab.research.google.com/github/glombardo/Research/blob/main/Visual_Intelligence_for_Ad_Creative_Strategy_Using_Millions_of_Creative_Data_Points.ipynb\" target=\"_parent\"><img src=\"https://colab.research.google.com/assets/colab-badge.svg\" alt=\"Open In Colab\"/></a>"
      ]
    },
    {
      "cell_type": "markdown",
      "source": [
        "**Step 1: Upload File (press play button)**"
      ],
      "metadata": {
        "id": "TeppbNmfQWBO"
      }
    },
    {
      "cell_type": "code",
      "source": [
        "# @title\n",
        "from google.colab import files\n",
        "import pandas as pd\n",
        "\n",
        "uploaded = files.upload()\n",
        "\n",
        "for fn in uploaded.keys():\n",
        "  # Assuming only one file is uploaded\n",
        "  df = pd.read_csv(fn)\n",
        "  print(f'User uploaded file \"{fn}\" with length {len(uploaded[fn])} bytes')\n",
        "\n",
        "print(df.head())"
      ],
      "metadata": {
        "colab": {
          "base_uri": "https://localhost:8080/",
          "height": 750
        },
        "cellView": "form",
        "id": "MTPveExuP8iu",
        "outputId": "e8170046-626d-40a2-f7c3-229285c43677"
      },
      "execution_count": 12,
      "outputs": [
        {
          "output_type": "display_data",
          "data": {
            "text/plain": [
              "<IPython.core.display.HTML object>"
            ],
            "text/html": [
              "\n",
              "     <input type=\"file\" id=\"files-e33663dd-4892-444c-bdaa-a7c428b577d9\" name=\"files[]\" multiple disabled\n",
              "        style=\"border:none\" />\n",
              "     <output id=\"result-e33663dd-4892-444c-bdaa-a7c428b577d9\">\n",
              "      Upload widget is only available when the cell has been executed in the\n",
              "      current browser session. Please rerun this cell to enable.\n",
              "      </output>\n",
              "      <script>// Copyright 2017 Google LLC\n",
              "//\n",
              "// Licensed under the Apache License, Version 2.0 (the \"License\");\n",
              "// you may not use this file except in compliance with the License.\n",
              "// You may obtain a copy of the License at\n",
              "//\n",
              "//      http://www.apache.org/licenses/LICENSE-2.0\n",
              "//\n",
              "// Unless required by applicable law or agreed to in writing, software\n",
              "// distributed under the License is distributed on an \"AS IS\" BASIS,\n",
              "// WITHOUT WARRANTIES OR CONDITIONS OF ANY KIND, either express or implied.\n",
              "// See the License for the specific language governing permissions and\n",
              "// limitations under the License.\n",
              "\n",
              "/**\n",
              " * @fileoverview Helpers for google.colab Python module.\n",
              " */\n",
              "(function(scope) {\n",
              "function span(text, styleAttributes = {}) {\n",
              "  const element = document.createElement('span');\n",
              "  element.textContent = text;\n",
              "  for (const key of Object.keys(styleAttributes)) {\n",
              "    element.style[key] = styleAttributes[key];\n",
              "  }\n",
              "  return element;\n",
              "}\n",
              "\n",
              "// Max number of bytes which will be uploaded at a time.\n",
              "const MAX_PAYLOAD_SIZE = 100 * 1024;\n",
              "\n",
              "function _uploadFiles(inputId, outputId) {\n",
              "  const steps = uploadFilesStep(inputId, outputId);\n",
              "  const outputElement = document.getElementById(outputId);\n",
              "  // Cache steps on the outputElement to make it available for the next call\n",
              "  // to uploadFilesContinue from Python.\n",
              "  outputElement.steps = steps;\n",
              "\n",
              "  return _uploadFilesContinue(outputId);\n",
              "}\n",
              "\n",
              "// This is roughly an async generator (not supported in the browser yet),\n",
              "// where there are multiple asynchronous steps and the Python side is going\n",
              "// to poll for completion of each step.\n",
              "// This uses a Promise to block the python side on completion of each step,\n",
              "// then passes the result of the previous step as the input to the next step.\n",
              "function _uploadFilesContinue(outputId) {\n",
              "  const outputElement = document.getElementById(outputId);\n",
              "  const steps = outputElement.steps;\n",
              "\n",
              "  const next = steps.next(outputElement.lastPromiseValue);\n",
              "  return Promise.resolve(next.value.promise).then((value) => {\n",
              "    // Cache the last promise value to make it available to the next\n",
              "    // step of the generator.\n",
              "    outputElement.lastPromiseValue = value;\n",
              "    return next.value.response;\n",
              "  });\n",
              "}\n",
              "\n",
              "/**\n",
              " * Generator function which is called between each async step of the upload\n",
              " * process.\n",
              " * @param {string} inputId Element ID of the input file picker element.\n",
              " * @param {string} outputId Element ID of the output display.\n",
              " * @return {!Iterable<!Object>} Iterable of next steps.\n",
              " */\n",
              "function* uploadFilesStep(inputId, outputId) {\n",
              "  const inputElement = document.getElementById(inputId);\n",
              "  inputElement.disabled = false;\n",
              "\n",
              "  const outputElement = document.getElementById(outputId);\n",
              "  outputElement.innerHTML = '';\n",
              "\n",
              "  const pickedPromise = new Promise((resolve) => {\n",
              "    inputElement.addEventListener('change', (e) => {\n",
              "      resolve(e.target.files);\n",
              "    });\n",
              "  });\n",
              "\n",
              "  const cancel = document.createElement('button');\n",
              "  inputElement.parentElement.appendChild(cancel);\n",
              "  cancel.textContent = 'Cancel upload';\n",
              "  const cancelPromise = new Promise((resolve) => {\n",
              "    cancel.onclick = () => {\n",
              "      resolve(null);\n",
              "    };\n",
              "  });\n",
              "\n",
              "  // Wait for the user to pick the files.\n",
              "  const files = yield {\n",
              "    promise: Promise.race([pickedPromise, cancelPromise]),\n",
              "    response: {\n",
              "      action: 'starting',\n",
              "    }\n",
              "  };\n",
              "\n",
              "  cancel.remove();\n",
              "\n",
              "  // Disable the input element since further picks are not allowed.\n",
              "  inputElement.disabled = true;\n",
              "\n",
              "  if (!files) {\n",
              "    return {\n",
              "      response: {\n",
              "        action: 'complete',\n",
              "      }\n",
              "    };\n",
              "  }\n",
              "\n",
              "  for (const file of files) {\n",
              "    const li = document.createElement('li');\n",
              "    li.append(span(file.name, {fontWeight: 'bold'}));\n",
              "    li.append(span(\n",
              "        `(${file.type || 'n/a'}) - ${file.size} bytes, ` +\n",
              "        `last modified: ${\n",
              "            file.lastModifiedDate ? file.lastModifiedDate.toLocaleDateString() :\n",
              "                                    'n/a'} - `));\n",
              "    const percent = span('0% done');\n",
              "    li.appendChild(percent);\n",
              "\n",
              "    outputElement.appendChild(li);\n",
              "\n",
              "    const fileDataPromise = new Promise((resolve) => {\n",
              "      const reader = new FileReader();\n",
              "      reader.onload = (e) => {\n",
              "        resolve(e.target.result);\n",
              "      };\n",
              "      reader.readAsArrayBuffer(file);\n",
              "    });\n",
              "    // Wait for the data to be ready.\n",
              "    let fileData = yield {\n",
              "      promise: fileDataPromise,\n",
              "      response: {\n",
              "        action: 'continue',\n",
              "      }\n",
              "    };\n",
              "\n",
              "    // Use a chunked sending to avoid message size limits. See b/62115660.\n",
              "    let position = 0;\n",
              "    do {\n",
              "      const length = Math.min(fileData.byteLength - position, MAX_PAYLOAD_SIZE);\n",
              "      const chunk = new Uint8Array(fileData, position, length);\n",
              "      position += length;\n",
              "\n",
              "      const base64 = btoa(String.fromCharCode.apply(null, chunk));\n",
              "      yield {\n",
              "        response: {\n",
              "          action: 'append',\n",
              "          file: file.name,\n",
              "          data: base64,\n",
              "        },\n",
              "      };\n",
              "\n",
              "      let percentDone = fileData.byteLength === 0 ?\n",
              "          100 :\n",
              "          Math.round((position / fileData.byteLength) * 100);\n",
              "      percent.textContent = `${percentDone}% done`;\n",
              "\n",
              "    } while (position < fileData.byteLength);\n",
              "  }\n",
              "\n",
              "  // All done.\n",
              "  yield {\n",
              "    response: {\n",
              "      action: 'complete',\n",
              "    }\n",
              "  };\n",
              "}\n",
              "\n",
              "scope.google = scope.google || {};\n",
              "scope.google.colab = scope.google.colab || {};\n",
              "scope.google.colab._files = {\n",
              "  _uploadFiles,\n",
              "  _uploadFilesContinue,\n",
              "};\n",
              "})(self);\n",
              "</script> "
            ]
          },
          "metadata": {}
        },
        {
          "output_type": "stream",
          "name": "stdout",
          "text": [
            "              Advertiser   Brand Root     Brand (Major)  \\\n",
            "0  Bayer HealthCare LLC.    One A Day  One A Day Multi+   \n",
            "1       Pharmavite, LLC.  Nature Made       Nature Made   \n",
            "2       Pharmavite, LLC.  Nature Made       Nature Made   \n",
            "3       Pharmavite, LLC.  Nature Made       Nature Made   \n",
            "4       Pharmavite, LLC.  Nature Made       Nature Made   \n",
            "\n",
            "                          Brand (Minor)                          Brand (Leaf)  \\\n",
            "0  One A Day Multi+ Hair, Skin, & Nails  One A Day Multi+ Hair, Skin, & Nails   \n",
            "1                           Nature Made                           Nature Made   \n",
            "2                           Nature Made                           Nature Made   \n",
            "3                           Nature Made                           Nature Made   \n",
            "4                           Nature Made                           Nature Made   \n",
            "\n",
            "  Publisher     Date    Device Direct/Indirect        Type First Seen  \\\n",
            "0  Facebook  10/1/23  Facebook          Direct  Video Post     8/8/22   \n",
            "1  Facebook  10/1/23  Facebook          Direct  Video Post    10/3/21   \n",
            "2  Facebook  10/1/23  Facebook          Direct  Video Post     7/6/23   \n",
            "3  Facebook  10/1/23  Facebook          Direct  Video Post    10/1/23   \n",
            "4  Facebook  10/1/23  Facebook          Direct   Link Post    10/1/23   \n",
            "\n",
            "  Last Seen                                      Creative Text  \\\n",
            "0  12/29/23  Hair ✅ Skin ✅ Nails ✅ Add this complete multiv...   \n",
            "1    1/1/24  Support your immune system now with Nature Mad...   \n",
            "2   10/1/23  Fuel your self-care routine with the essential...   \n",
            "3    1/1/24  Support your immune system now and support you...   \n",
            "4    1/1/24  Support your immune system now and enjoy momen...   \n",
            "\n",
            "                                    Link to Creative  Creative ID  \\\n",
            "0  https://s3.amazonaws.com/YM_Ads/-4782423737630...    393323934   \n",
            "1  https://s3.amazonaws.com/YM_Ads/72037109680180...    459276597   \n",
            "2  https://s3.amazonaws.com/YM_Ads/66261875257704...    434017885   \n",
            "3  https://s3.amazonaws.com/YM_Ads/72037194013505...    459300835   \n",
            "4  https://s3.amazonaws.com/YM_Ads/72036964013528...    459279315   \n",
            "\n",
            "   Spend (USD)  Impressions  \n",
            "0     738.1724       102342  \n",
            "1     369.0862        51171  \n",
            "2     738.1724       102342  \n",
            "3     369.0862        51171  \n",
            "4     369.0862        51171  \n"
          ]
        }
      ]
    },
    {
      "cell_type": "markdown",
      "source": [
        "**Step 2: Run this cel (press play button <-)**"
      ],
      "metadata": {
        "id": "l35y9UiDQB9R"
      }
    },
    {
      "cell_type": "code",
      "execution_count": 11,
      "metadata": {
        "colab": {
          "base_uri": "https://localhost:8080/",
          "height": 1000,
          "referenced_widgets": [
            "f4db125fb85f4580a7bdd05737657fa5",
            "c5299cb4b8354ee791b89972d3518452",
            "26bf46a5425a4b58bb665c07b7e615b8",
            "8dd628c89fd64a08bffaf343ec7920e4",
            "4a54dac203af4b0487420787c7b88f48",
            "19eb8e556e8e42719eb22b2ff708efa0",
            "11512409b7e64371a04bd8f2d9c6b7d9",
            "3f73a306642c47e285e86e38cb11effe",
            "33ed3bc617c24928b940d27c6192a2d3",
            "5520bc5cd540448da9a5bb39f1744154",
            "4d663adc6f1749a483d7980b42c0241d",
            "a3253518b3174374883fec289d04457e",
            "357efd0de00448f89137d6b445ac4f92",
            "2f177e92196f4d6fb15b923f08571b5d",
            "e594ea3e0f294b219497a81ff5a67e75",
            "68aba18a0fa74d2f81ce96c2bb9e8d4d",
            "31f358a5d5544809a9afc5d6b7cadc59",
            "f382c9bcde7c4361a4d8b5ddc1f09ff4",
            "1cbe14f7f78742c187084360a21171b9"
          ]
        },
        "cellView": "form",
        "id": "mHonG-iKNXc6",
        "outputId": "0c92d75a-fb8f-420e-dcde-1819b43c04e3"
      },
      "outputs": [
        {
          "output_type": "display_data",
          "data": {
            "text/plain": [
              "VBox(children=(SelectMultiple(description='Advertiser', layout=Layout(width='50%'), options=('Bayer HealthCare…"
            ],
            "application/vnd.jupyter.widget-view+json": {
              "version_major": 2,
              "version_minor": 0,
              "model_id": "f4db125fb85f4580a7bdd05737657fa5"
            }
          },
          "metadata": {}
        }
      ],
      "source": [
        "# @title\n",
        "# Install required libraries\n",
        "!pip install -q pillow tqdm matplotlib ipywidgets scikit-learn opencv-python\n",
        "\n",
        "# Import packages\n",
        "import pandas as pd\n",
        "import numpy as np\n",
        "import matplotlib.pyplot as plt\n",
        "import cv2\n",
        "import os\n",
        "import requests\n",
        "from tqdm import tqdm\n",
        "from PIL import Image\n",
        "from io import BytesIO\n",
        "from sklearn.decomposition import PCA\n",
        "from sklearn.cluster import KMeans\n",
        "from tensorflow.keras.applications.vgg16 import VGG16, preprocess_input\n",
        "from tensorflow.keras.models import Model\n",
        "import ipywidgets as widgets\n",
        "from IPython.display import display, clear_output\n",
        "\n",
        "# Mount Google Drive if needed\n",
        "# from google.colab import drive\n",
        "# drive.mount('/content/drive')\n",
        "\n",
        "# Load your Pathmatics data\n",
        "# Replace with your actual file path\n",
        "#csv_path = 'vitamins_ads_data.csv'  # <--- change to your filename\n",
        "#df = pd.read_csv(csv_path)\n",
        "\n",
        "# Filter NaNs and malformed links\n",
        "df = df.dropna()\n",
        "df = df[df['Link to Creative'].str.startswith('https')]\n",
        "\n",
        "# Create widgets\n",
        "adv_dropdown = widgets.SelectMultiple(options=df['Advertiser'].dropna().unique(), description='Advertiser', layout=widgets.Layout(width='50%'))\n",
        "brand_dropdown = widgets.SelectMultiple(options=df['Brand Root'].dropna().unique(), description='Brand', layout=widgets.Layout(width='50%'))\n",
        "major_dropdown = widgets.SelectMultiple(options=df['Brand (Major)'].dropna().unique(), description='Sub-Brand', layout=widgets.Layout(width='50%'))\n",
        "pub_dropdown = widgets.SelectMultiple(options=df['Publisher'].dropna().unique(), description='Publisher', layout=widgets.Layout(width='50%'))\n",
        "\n",
        "button = widgets.Button(description=\"Generate Visual Summary\", button_style='success')\n",
        "output = widgets.Output()\n",
        "\n",
        "display(widgets.VBox([adv_dropdown, brand_dropdown, major_dropdown, pub_dropdown, button, output]))\n",
        "\n",
        "# Utility: Download and resize image\n",
        "def download_image(url, size=(224, 224)):\n",
        "    try:\n",
        "        response = requests.get(url, timeout=10)\n",
        "        img = Image.open(BytesIO(response.content)).convert(\"RGB\")\n",
        "        img = img.resize(size)\n",
        "        return np.array(img)\n",
        "    except:\n",
        "        return None\n",
        "\n",
        "# On button click\n",
        "def on_button_click(b):\n",
        "    output.clear_output()\n",
        "    with output:\n",
        "        clear_output(wait=True)\n",
        "        print(\"Processing...\")\n",
        "\n",
        "        # Apply filters\n",
        "        filt_df = df.copy()\n",
        "        if adv_dropdown.value:\n",
        "            filt_df = filt_df[filt_df['Advertiser'].isin(adv_dropdown.value)]\n",
        "        if brand_dropdown.value:\n",
        "            filt_df = filt_df[filt_df['Brand Root'].isin(brand_dropdown.value)]\n",
        "        if major_dropdown.value:\n",
        "            filt_df = filt_df[filt_df['Brand (Major)'].isin(major_dropdown.value)]\n",
        "        if pub_dropdown.value:\n",
        "            filt_df = filt_df[filt_df['Publisher'].isin(pub_dropdown.value)]\n",
        "\n",
        "        # Limit to avoid overload\n",
        "        urls = filt_df['Link to Creative'].drop_duplicates().tolist()#[:100]\n",
        "\n",
        "        if not urls:\n",
        "            print(\"No matching creatives found.\")\n",
        "            return\n",
        "\n",
        "        print(f\"Found {len(urls)} creatives. Downloading...\")\n",
        "\n",
        "        images = []\n",
        "        for url in tqdm(urls):\n",
        "            img = download_image(url)\n",
        "            if img is not None:\n",
        "                images.append(img)\n",
        "\n",
        "        if len(images) < 5:\n",
        "            print(\"Not enough valid images to analyze.\")\n",
        "            return\n",
        "\n",
        "        print(\"Extracting visual features...\")\n",
        "\n",
        "        # Load VGG16 model\n",
        "        base_model = VGG16(weights='imagenet', include_top=False, input_shape=(224, 224, 3))\n",
        "        model = Model(inputs=base_model.input, outputs=base_model.get_layer('block5_pool').output)\n",
        "\n",
        "        img_array = np.array([preprocess_input(img.astype(np.float32)) for img in images])\n",
        "        features = model.predict(img_array, verbose=0)\n",
        "        flat_features = features.reshape(features.shape[0], -1)\n",
        "\n",
        "        print(\"Reducing dimensionality...\")\n",
        "        n_components = min(30, flat_features.shape[0], flat_features.shape[1])\n",
        "        pca = PCA(n_components=n_components)\n",
        "        X_pca = pca.fit_transform(flat_features)\n",
        "\n",
        "        print(\"Clustering...\")\n",
        "        kmeans = KMeans(n_clusters=1, random_state=42)\n",
        "        kmeans.fit(X_pca)\n",
        "        centroid_index = np.argmin(np.linalg.norm(X_pca - kmeans.cluster_centers_[0], axis=1))\n",
        "\n",
        "        representative_img = images[centroid_index]\n",
        "\n",
        "        print(\"Visual Summary Generated:\")\n",
        "        plt.figure(figsize=(6, 6))\n",
        "        plt.imshow(representative_img)\n",
        "        plt.axis('off')\n",
        "        plt.title(\"Most Representative Creative Based on Visual Features\")\n",
        "        plt.show()\n",
        "\n",
        "button.on_click(on_button_click)\n"
      ]
    }
  ]
}